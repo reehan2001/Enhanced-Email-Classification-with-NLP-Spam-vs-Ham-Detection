{
 "cells": [
  {
   "cell_type": "code",
   "execution_count": 1,
   "id": "4108c1ab",
   "metadata": {},
   "outputs": [
    {
     "name": "stdout",
     "output_type": "stream",
     "text": [
      "Requirement already satisfied: nltk in c:\\users\\reehan roshan\\anaconda3\\lib\\site-packages (3.8.1)\n",
      "Requirement already satisfied: click in c:\\users\\reehan roshan\\anaconda3\\lib\\site-packages (from nltk) (8.0.4)\n",
      "Requirement already satisfied: joblib in c:\\users\\reehan roshan\\anaconda3\\lib\\site-packages (from nltk) (1.2.0)\n",
      "Requirement already satisfied: regex>=2021.8.3 in c:\\users\\reehan roshan\\anaconda3\\lib\\site-packages (from nltk) (2022.7.9)\n",
      "Requirement already satisfied: tqdm in c:\\users\\reehan roshan\\anaconda3\\lib\\site-packages (from nltk) (4.65.0)\n",
      "Requirement already satisfied: colorama in c:\\users\\reehan roshan\\anaconda3\\lib\\site-packages (from click->nltk) (0.4.6)\n",
      "Note: you may need to restart the kernel to use updated packages.\n"
     ]
    }
   ],
   "source": [
    "pip install nltk"
   ]
  },
  {
   "cell_type": "code",
   "execution_count": 2,
   "id": "5a591110",
   "metadata": {},
   "outputs": [
    {
     "name": "stdout",
     "output_type": "stream",
     "text": [
      "['Define', 'which', 'data', 'represents', '\"', 'ham', '\"', 'class', 'and', 'which', 'data', 'represents', '\"', 'spam', '\"', 'class', 'for', 'the', 'machine-learning']\n"
     ]
    }
   ],
   "source": [
    "text = 'Define which data represents \"ham\" class and which data represents \"spam\" class for the machine-learning algorithm.'\n",
    "\n",
    "text_delimiter = ['\"', ',']\n",
    "text_current = \"\"\n",
    "words = []\n",
    "\n",
    "for char in text:\n",
    "    if char == \" \":\n",
    "        if not text_current == \"\":\n",
    "            words.append(text_current)\n",
    "            text_current = \"\"\n",
    "    elif char in text_delimiter:\n",
    "        if text_current == \"\":\n",
    "            words.append(char)\n",
    "        else:\n",
    "            words.append(text_current)\n",
    "            words.append(char)\n",
    "            text_current = \"\"\n",
    "    else:\n",
    "        text_current += char\n",
    "\n",
    "print(words)"
   ]
  },
  {
   "cell_type": "code",
   "execution_count": 3,
   "id": "bf3dc147",
   "metadata": {},
   "outputs": [],
   "source": [
    "import os\n",
    "import codecs\n",
    "import random\n",
    "from nltk import NaiveBayesClassifier , classify\n",
    "from nltk.text import Text"
   ]
  },
  {
   "cell_type": "code",
   "execution_count": 4,
   "id": "9afe26ed",
   "metadata": {},
   "outputs": [],
   "source": [
    "def data_load(folder):\n",
    "    file_list = os.listdir(folder)\n",
    "    a_list = []\n",
    "    for a_file in file_list:\n",
    "        if not a_file.startswith(\".\"):\n",
    "            file_path = os.path.join(folder, a_file)\n",
    "            with codecs.open(file_path, 'r', encoding=\"ISO-8859-1\", errors=\"ignore\") as f:\n",
    "                a_list.append(f.read())\n",
    "    return a_list"
   ]
  },
  {
   "cell_type": "code",
   "execution_count": 5,
   "id": "7aad9bc0",
   "metadata": {},
   "outputs": [],
   "source": [
    "spam_list = data_load('data/enron1/spam/')\n",
    "ham_list = data_load('data/enron1/ham/')"
   ]
  },
  {
   "cell_type": "code",
   "execution_count": 6,
   "id": "61514cc5",
   "metadata": {},
   "outputs": [
    {
     "name": "stdout",
     "output_type": "stream",
     "text": [
      "spam emails = 1500 , ham emails = 3672\n"
     ]
    }
   ],
   "source": [
    "print(\"spam emails = {} , ham emails = {}\".format(len(spam_list) , len(ham_list)))"
   ]
  },
  {
   "cell_type": "code",
   "execution_count": 7,
   "id": "8a7c66c0",
   "metadata": {},
   "outputs": [
    {
     "name": "stdout",
     "output_type": "stream",
     "text": [
      " Spam_emails + ham_emails = Total emails Dataset size is 5172 emails\n"
     ]
    }
   ],
   "source": [
    "all_emails = [(emails_list,\"spam\") for emails_list in spam_list]\n",
    "all_emails += [(emails_list,\"ham\") for emails_list in ham_list]\n",
    "\n",
    "random.seed(42)\n",
    "random.shuffle(all_emails)\n",
    "print(f\" Spam_emails + ham_emails = Total emails Dataset size is {str(len(all_emails))} emails\")"
   ]
  },
  {
   "cell_type": "code",
   "execution_count": 8,
   "id": "ce8813d4",
   "metadata": {},
   "outputs": [],
   "source": [
    "from nltk import word_tokenize\n",
    "\n",
    "def input_txt(input):\n",
    "    words=[]\n",
    "    for word in word_tokenize(input):\n",
    "        words.append(word)\n",
    "    return words   "
   ]
  },
  {
   "cell_type": "code",
   "execution_count": 9,
   "id": "b9975ef6",
   "metadata": {},
   "outputs": [
    {
     "name": "stdout",
     "output_type": "stream",
     "text": [
      "['enter', 'the', 'words', ',', 'that', 'will', 'say', 'my', 'name', 'is', 'reehan']\n"
     ]
    }
   ],
   "source": [
    "print(input_txt(\"enter the words , that will say my name is reehan\"))"
   ]
  },
  {
   "cell_type": "code",
   "execution_count": 10,
   "id": "52b1e801",
   "metadata": {
    "scrolled": true
   },
   "outputs": [
    {
     "name": "stdout",
     "output_type": "stream",
     "text": [
      "{'participate': True, 'in': True, 'our': True, 'new': True, 'lottery': True, 'now': True, '!': True}\n",
      "5172\n",
      "27\n",
      "55\n"
     ]
    }
   ],
   "source": [
    "def get_features(text): \n",
    "    features = {}\n",
    "    word_list = [word for word in word_tokenize(text.lower())]\n",
    "    for word in word_list:\n",
    "        features[word] = True\n",
    "    return features\n",
    "\n",
    "all_features = [(get_features(email), label) for (email, label) in all_emails]\n",
    "\n",
    "print(get_features(\"Participate In Our New Lottery NOW!\"))\n",
    "print(len(all_features))\n",
    "print(len(all_features[0][0]))\n",
    "print(len(all_features[99][0]))"
   ]
  },
  {
   "cell_type": "code",
   "execution_count": 11,
   "id": "2f920687",
   "metadata": {},
   "outputs": [
    {
     "name": "stdout",
     "output_type": "stream",
     "text": [
      "Training set size = 4137 emails\n",
      "Test set size = 1035 emails\n"
     ]
    }
   ],
   "source": [
    "def train(features, proportion):\n",
    "    train_size = int(len(features) * proportion)\n",
    "    train_set, test_set = features[:train_size], features[train_size:]\n",
    "    print(f\"Training set size = {len(train_set)} emails\")\n",
    "    print(f\"Test set size = {len(test_set)} emails\")\n",
    "    classifier = NaiveBayesClassifier.train(train_set)\n",
    "    return train_set, test_set, classifier\n",
    "\n",
    "train_set, test_set, classifier = train(all_features, 0.8)"
   ]
  },
  {
   "cell_type": "code",
   "execution_count": 12,
   "id": "0715cd92",
   "metadata": {},
   "outputs": [
    {
     "name": "stdout",
     "output_type": "stream",
     "text": [
      "the accuracy of the Train_set =0.9632583998066232\n",
      "the accuracy of the Test_set =0.9468599033816425\n",
      "Most Informative Features\n",
      "               forwarded = True              ham : spam   =    198.3 : 1.0\n",
      "                    2004 = True             spam : ham    =    156.6 : 1.0\n",
      "                     nom = True              ham : spam   =    126.3 : 1.0\n",
      "            prescription = True             spam : ham    =    122.9 : 1.0\n",
      "                    2001 = True              ham : spam   =    107.8 : 1.0\n",
      "                    pain = True             spam : ham    =     98.8 : 1.0\n",
      "                     ect = True              ham : spam   =     84.0 : 1.0\n",
      "                  health = True             spam : ham    =     82.7 : 1.0\n",
      "                featured = True             spam : ham    =     74.7 : 1.0\n",
      "              nomination = True              ham : spam   =     73.7 : 1.0\n"
     ]
    }
   ],
   "source": [
    "def evaluate(train_set,test_set,classifier):\n",
    "    print(f\"the accuracy of the Train_set ={str(classify.accuracy(classifier,train_set))}\")\n",
    "    print(f\"the accuracy of the Test_set ={str(classify.accuracy(classifier,test_set))}\")\n",
    "    classifier.show_most_informative_features(10)\n",
    "evaluate(train_set, test_set, classifier)"
   ]
  },
  {
   "cell_type": "code",
   "execution_count": 13,
   "id": "398742ff",
   "metadata": {},
   "outputs": [
    {
     "name": "stdout",
     "output_type": "stream",
     "text": [
      "STOCKS in HAM:\n",
      "Displaying 1 of 1 matches:\n",
      "ad my portfolio is diversified into stocks that have lost even more money than\n",
      "Displaying 1 of 1 matches:\n",
      "ur member directory . * follow your stocks and news headlines , exchange files\n",
      "Displaying 1 of 1 matches:\n",
      "ur member directory . * follow your stocks and news headlines , exchange files\n",
      "Displaying 1 of 1 matches:\n",
      "ur member directory . * follow your stocks and news headlines , exchange files\n",
      "\n",
      "\n",
      "STOCKS in SPAM:\n",
      "Displaying 2 of 2 matches:\n",
      "ims and do your own due diligence . stocks to play ( s 2 p ) profiles are not \n",
      "s obtained . investing in micro cap stocks is extremely risky and , investors \n",
      "Displaying 1 of 1 matches:\n",
      "cautions that small and micro - cap stocks are high - risk investments and tha\n",
      "Displaying 1 of 1 matches:\n",
      "s obtained . investing in micro cap stocks is extremely risky and , investors \n",
      "Displaying 3 of 3 matches:\n",
      "ancements but may be one of the few stocks left in this industry group that is\n",
      "his email pertaining to investing , stocks , securities must be understood as \n",
      "ntative before deciding to trade in stocks featured within this email . none o\n",
      "Displaying 1 of 1 matches:\n",
      "in apple investments , inc profiled stocks . in order to be in full compliance\n",
      "Displaying 1 of 1 matches:\n",
      "subject : fwd : screw doctors . stocks available . vlagr @ . x _ a _ nax .\n",
      "Displaying 1 of 1 matches:\n",
      "cautions that small and micro - cap stocks are high - risk investments and tha\n",
      "Displaying 4 of 4 matches:\n",
      "his email pertaining to investing , stocks , securities must be understood as \n",
      "ntative before deciding to trade in stocks featured within this email . none o\n",
      "eep in mind that when trading small stocks like the company above there is a c\n",
      "t professional before investing any stocks or mutual funds .\n",
      "Displaying 4 of 4 matches:\n",
      "his email pertaining to investing , stocks , securities must be understood as \n",
      "ntative before deciding to trade in stocks featured within this email . none o\n",
      "eep in mind that when trading small stocks like the company above there is a c\n",
      "t professional before investing any stocks or mutual funds .\n",
      "Displaying 1 of 1 matches:\n",
      "ecializing in undervalued small cap stocks for immediate breakout erhc and exx\n",
      "Displaying 6 of 6 matches:\n",
      " if you knew about these low priced stocks : otcbb : zapz : closed march 31 st\n",
      " following points : * many of these stocks are undiscovered and uncovered ! wh\n",
      " ! ! * * many of these undiscovered stocks are like coiled springs , wound tig\n",
      "might occur . as with many microcap stocks , today ' s company has additional \n",
      "his email pertaining to investing , stocks , securities must be understood as \n",
      "ntative before deciding to trade in stocks featured within this email . none o\n",
      "Displaying 1 of 1 matches:\n",
      "fessionally not multi - level - not stocks - not real estate no cost tele - se\n",
      "Displaying 2 of 2 matches:\n",
      "ng their gains . select gold mining stocks are the hot flyers of the otc . his\n",
      "is letter cautions that micro - cap stocks are high - risk investments and tha\n",
      "Displaying 6 of 6 matches:\n",
      "hem : ( big money was made in these stocks by savvy investors who timed them r\n",
      "g filthy , stinking ri ' ch in tiny stocks no one has ever heard of until now \n",
      "ynamic things . some of these small stocks have absolutely exploded in price r\n",
      "`` occur . as with many micro - cap stocks , today ' s company has additional \n",
      " ema - il pertaining to investing , stocks or securities must be understood as\n",
      "ntative before deciding to trade in stocks featured within this ema - il . non\n",
      "Displaying 4 of 4 matches:\n",
      "hree days . play of the week tracks stocks on downward trends , foresees botto\n",
      "mark is our uncanny ability to spot stocks that have bottomed - out and antici\n",
      "ound and upward trend . most of the stocks we track rebound and peak within ju\n",
      "om third party . investing in penny stocks is high risk and you should seek pr\n",
      "Displaying 2 of 2 matches:\n",
      "rt identifying defense and security stocks ready to explode look at the moves \n",
      " actual exchanges where small - cap stocks are traded . silica stopband doorkn\n",
      "Displaying 4 of 4 matches:\n",
      "y agree , some , not all , of these stocks move in price because they are prom\n",
      "tands or that as with many microcap stocks , today ' s company has additional \n",
      "is report pertaining to investing , stocks , securities must be understood as \n",
      "ntative before deciding to trade in stocks featured within this report . none \n",
      "Displaying 5 of 5 matches:\n",
      "5 where were you when the following stocks exploded : scos : exploded from . 3\n",
      "d . 80 on friday . face it . little stocks can mean big gains for you . this r\n",
      "might occur . as with many microcap stocks , today ' s company has additional \n",
      "his email pertaining to investing , stocks , securities must be understood as \n",
      "ntative before deciding to trade in stocks featured within this report . none \n",
      "Displaying 3 of 3 matches:\n",
      " statements . as with many microcap stocks , todays company has additional ris\n",
      "blication pertaining to investing , stocks , securities must be understood as \n",
      "ntative before deciding to trade in stocks featured within this publication . \n",
      "Displaying 3 of 3 matches:\n",
      " statements . as with many microcap stocks , todays company has additional ris\n",
      "blication pertaining to investing , stocks , securities must be understood as \n",
      "ntative before deciding to trade in stocks featured within this publication . \n",
      "Displaying 3 of 3 matches:\n",
      "orage inc . play of the week tracks stocks on downward trends , foresees botto\n",
      "his email pertaining to investing , stocks , securities must be understood as \n",
      "ntative before deciding to trade in stocks featured within this email . none o\n",
      "Displaying 4 of 4 matches:\n",
      "nt opportunity drummond , small cap stocks alert newsletter must read - alert \n",
      "his email pertaining to investing , stocks , securities must be understood as \n",
      "ntative before deciding to trade in stocks featured within this email . none o\n",
      " lose money from investing in penny stocks . - - - - - - - - - - - - - - - - -\n",
      "Displaying 4 of 4 matches:\n",
      "n this stock . some of these smal | stocks are absoiuteiy fiying , as many of \n",
      " statements . as with many microcap stocks , todays company has additional ris\n",
      "biication pertaining to investing , stocks , securities must be understood as \n",
      "ntative before deciding to trade in stocks featured within this publication . \n",
      "Displaying 3 of 3 matches:\n",
      "his email pertaining to investing , stocks , securities must be understood as \n",
      "ntative before deciding to trade in stocks featured within this email . none o\n",
      " lose money from investing in penny stocks . if you wish to stop future mailin\n",
      "Displaying 3 of 3 matches:\n",
      "might occur . as with many microcap stocks , today ' s company has additiona |\n",
      "is emai | pertaining to investing , stocks , securities must be understood as \n",
      "ntative before deciding to trade in stocks featured within this emai | . none \n",
      "Displaying 3 of 3 matches:\n",
      "might occur . as with many microcap stocks , today ' s company has additiona |\n",
      "is emai | pertaining to investing , stocks , securities must be understood as \n",
      "ntative before deciding to trade in stocks featured within this email . none o\n",
      "Displaying 2 of 2 matches:\n",
      "his email pertaining to investing , stocks , securities must be understood as \n",
      "ntative before deciding to trade in stocks featured within this emai | . none \n",
      "Displaying 2 of 2 matches:\n",
      "his email pertaining to investing , stocks , securities must be understood as \n",
      "ntative before deciding to trade in stocks featured within this email . none o\n",
      "Displaying 2 of 2 matches:\n",
      "is emai | pertaining to investing , stocks , securities must be understood as \n",
      "ntative before deciding to trade in stocks featured within this email . none o\n",
      "Displaying 3 of 3 matches:\n",
      "might occur . as with many microcap stocks , today ' s company has additiona |\n",
      "his email pertaining to investing , stocks , securities must be understood as \n",
      "ntative before deciding to trade in stocks featured within this email . none o\n",
      "Displaying 3 of 3 matches:\n",
      "might occur . as with many microcap stocks , today ' s company has additional \n",
      "is emai | pertaining to investing , stocks , securities must be understood as \n",
      "ntative before deciding to trade in stocks featured within this emai | . none \n",
      "Displaying 1 of 1 matches:\n",
      " receive first notice on run - away stocks traders ' monthly alert january pic\n"
     ]
    },
    {
     "name": "stdout",
     "output_type": "stream",
     "text": [
      "Displaying 3 of 3 matches:\n",
      " plays . widespread gains in energy stocks are inflating the portfolios of agg\n",
      "st levels of the year , with energy stocks outperforming all other market sect\n",
      "utions that sma | | and micro - cap stocks are high - risk investments and tha\n",
      "Displaying 3 of 3 matches:\n",
      " statements . as with many microcap stocks , today ' s company has additiona |\n",
      "is report pertaining to investing , stocks , securities must be understood as \n",
      "ntative before deciding to trade in stocks featured within this report . none \n",
      "Displaying 2 of 2 matches:\n",
      "his email pertaining to investing , stocks , securities must be understood as \n",
      "ntative before deciding to trade in stocks featured within this email . none o\n",
      "Displaying 1 of 1 matches:\n",
      "scovering value in natural resource stocks elgin resources ( elr - tsx ) extra\n",
      "Displaying 2 of 2 matches:\n",
      " the last 12 months , many of these stocks made tripie and even quadruple retu\n",
      "one trade tuesday ! go mogi . penny stocks are considered highly speculative a\n",
      "Displaying 5 of 5 matches:\n",
      "hursday ! some of these littie voip stocks have been realiy moving lateiy . an\n",
      "t can happen with these sma | | cap stocks when they take off . and it happens\n",
      " statements . as with many microcap stocks , today ' s company has additiona |\n",
      "is report pertaining to investing , stocks , securities must be understood as \n",
      "ntative before deciding to trade in stocks featured within this report . none \n",
      "Displaying 4 of 4 matches:\n",
      " the last 12 months , many of these stocks made triple and even quadruple retu\n",
      " statements . as with many microcap stocks , today ' s company has additiona |\n",
      "is report pertaining to investing , stocks , securities must be understood as \n",
      "ntative before deciding to trade in stocks featured within this report . none \n",
      "Displaying 3 of 3 matches:\n",
      "might occur . as with many microcap stocks , today ' s company has additiona |\n",
      "is emai | pertaining to investing , stocks , securities must be understood as \n",
      "ntative before deciding to trade in stocks featured within this email . none o\n",
      "Displaying 5 of 5 matches:\n",
      "ck monday some of these littie voip stocks have been really moving lately . an\n",
      "t can happen with these sma | | cap stocks when they take off . and it happens\n",
      " statements . as with many microcap stocks , today ' s company has additiona |\n",
      "is report pertaining to investing , stocks , securities must be understood as \n",
      "ntative before deciding to trade in stocks featured within this report . none \n",
      "Displaying 2 of 2 matches:\n",
      "ck monday some of these little voip stocks have been realiy moving lately . an\n",
      " one trade monday ! go ypil . penny stocks are considered highiy specuiative a\n",
      "Displaying 3 of 3 matches:\n",
      "5 how many times have you seen good stocks but you couldn ' t get your hands o\n",
      "his email pertaining to investing , stocks , securities must be understood as \n",
      "ntative before deciding to trade in stocks featured within this email . none o\n",
      "Displaying 4 of 4 matches:\n",
      "k tuesday some of these littie voip stocks have been reaily moving lateiy . an\n",
      " statements . as with many microcap stocks , today ' s company has additional \n",
      "is report pertaining to investing , stocks , securities must be understood as \n",
      "ntative before deciding to trade in stocks featured within this report . none \n",
      "Displaying 2 of 2 matches:\n",
      "his email pertaining to investing , stocks , securities must be understood as \n",
      "ntative before deciding to trade in stocks featured within this email . none o\n",
      "Displaying 4 of 4 matches:\n",
      "ck monday some of these little voip stocks have been rea | | y moving lately .\n",
      " statements . as with many microcap stocks , today ' s company has additiona |\n",
      "is report pertaining to investing , stocks , securities must be understood as \n",
      "ntative before deciding to trade in stocks featured within this report . none \n",
      "Displaying 1 of 1 matches:\n",
      "the | ast 12 months , many of these stocks made triple and even quadruple retu\n",
      "Displaying 1 of 1 matches:\n",
      "or information puposes only . penny stocks are considered highly speculative a\n",
      "Displaying 1 of 1 matches:\n",
      " one trade monday ! go wysk . penny stocks are considered highiy specuiative a\n",
      "Displaying 1 of 1 matches:\n",
      " the last 12 months , many of these stocks made tripie and even quadruple retu\n",
      "Displaying 1 of 1 matches:\n",
      " one trade monday ! go wysk . penny stocks are considered highiy speculative a\n",
      "Displaying 4 of 4 matches:\n",
      "watch this one trade . these little stocks can surprise in a big way sometimes\n",
      "might occur . as with many microcap stocks , today ' s company has additional \n",
      "his email pertaining to investing , stocks , securities must be understood as \n",
      "ntative before deciding to trade in stocks featured within this email . none o\n",
      "Displaying 2 of 2 matches:\n",
      "his email pertaining to investing , stocks , securities must be understood as \n",
      "ntative before deciding to trade in stocks featured within this email . none o\n",
      "Displaying 1 of 1 matches:\n",
      "dge - ksige are you tired of buying stocks and not having them perform ? our s\n",
      "Displaying 3 of 3 matches:\n",
      "report reveals this smallcap rocket stocks newsletter first we would like to s\n",
      "his email pertaining to investing , stocks , securities must be understood as \n",
      "ntative before deciding to trade in stocks featured within this email . none o\n",
      "Displaying 2 of 2 matches:\n",
      "ck monday some of these little voip stocks have been really moving lately . an\n",
      " one trade monday ! go ypil . penny stocks are considered highiy specuiative a\n",
      "Displaying 3 of 3 matches:\n",
      "n how many times have you seen good stocks but you couldn ' t get your hands o\n",
      "his email pertaining to investing , stocks , securities must be understood as \n",
      "ntative before deciding to trade in stocks featured within this email . none o\n",
      "Displaying 1 of 1 matches:\n",
      "ne trade thursday ! go fcdh . penny stocks are considered highiy specuiative a\n",
      "Displaying 1 of 1 matches:\n",
      " one trade monday ! go wysk . penny stocks are considered highiy specuiative a\n",
      "Displaying 2 of 2 matches:\n",
      "subject : penny stocks are about timing nomad internationa\n",
      " one trade friday ! go ndin . penny stocks are considered highiy speculative a\n",
      "Displaying 4 of 4 matches:\n",
      "tion is key to stock success rocket stocks newsletter u r g e n t i n v e s t \n",
      "ht occur . as with many micro - cap stocks , today ' s company has additional \n",
      "his email pertaining to investing , stocks , securities must be understood as \n",
      "ntative before deciding to trade in stocks featured within this email . none o\n",
      "Displaying 1 of 1 matches:\n",
      " one trade monday ! go ndin . penny stocks are considered highly speculative a\n",
      "Displaying 2 of 2 matches:\n",
      " % on regular price we have massive stocks of drugs for same day dispatch fast\n",
      "e do have the lowest price and huge stocks ready for same - day dispatch . two\n",
      "Displaying 1 of 1 matches:\n",
      "_ _ _ _ _ _ _ _ _ _ _ _ _ _ penny - stocks are considered highly speculative a\n",
      "Displaying 2 of 2 matches:\n",
      " % on regular price we have massive stocks of drugs for same day dispatch fast\n",
      "e do have the lowest price and huge stocks ready for same - day dispatch . two\n",
      "Displaying 2 of 2 matches:\n",
      " % on regular price we have massive stocks of drugs for same day dispatch fast\n",
      "e do have the lowest price and huge stocks ready for same - day dispatch . two\n"
     ]
    }
   ],
   "source": [
    "from nltk.text import Text\n",
    "\n",
    "def concordance(data_list, search_word):\n",
    "    for email in data_list:\n",
    "        word_list = [word for word in word_tokenize(email.lower())]\n",
    "        text_list = Text(word_list)\n",
    "        if search_word in word_list:\n",
    "            text_list.concordance(search_word)\n",
    "\n",
    "\n",
    "print (\"STOCKS in HAM:\")\n",
    "concordance(ham_list, \"stocks\")\n",
    "print (\"\\n\\nSTOCKS in SPAM:\")\n",
    "concordance(spam_list, \"stocks\")"
   ]
  },
  {
   "cell_type": "code",
   "execution_count": 14,
   "id": "6c2bdbcd",
   "metadata": {},
   "outputs": [
    {
     "name": "stdout",
     "output_type": "stream",
     "text": [
      "the accuracy of the Train_set =0.9632583998066232\n",
      "the accuracy of the Test_set =1.0\n",
      "Most Informative Features\n",
      "               forwarded = True              ham : spam   =    198.3 : 1.0\n",
      "                    2004 = True             spam : ham    =    156.6 : 1.0\n",
      "                     nom = True              ham : spam   =    126.3 : 1.0\n",
      "            prescription = True             spam : ham    =    122.9 : 1.0\n",
      "                    2001 = True              ham : spam   =    107.8 : 1.0\n",
      "                    pain = True             spam : ham    =     98.8 : 1.0\n",
      "                     ect = True              ham : spam   =     84.0 : 1.0\n",
      "                  health = True             spam : ham    =     82.7 : 1.0\n",
      "                featured = True             spam : ham    =     74.7 : 1.0\n",
      "              nomination = True              ham : spam   =     73.7 : 1.0\n"
     ]
    }
   ],
   "source": [
    "test_spam_list = [\"Participate in our new lottery!\", \"Try out this new medicine\"]\n",
    "test_ham_list = [\"See the minutes from the last meeting attached\", \n",
    "                 \"Investors are coming to our office on Monday\"]\n",
    "\n",
    "testing = [(email_content,\"spam\") for email_content in test_spam_list]\n",
    "testing += [(email_content,\"ham\") for email_content in test_ham_list]\n",
    "\n",
    "new_test_set = [(get_features(email), label) for (email, label) in testing]\n",
    "evaluate(train_set, new_test_set, classifier)"
   ]
  },
  {
   "cell_type": "code",
   "execution_count": 15,
   "id": "eeaf3fca",
   "metadata": {},
   "outputs": [
    {
     "name": "stdout",
     "output_type": "stream",
     "text": [
      "Participate in our new lottery!\n",
      "spam\n",
      "Try out this new medicine\n",
      "spam\n",
      "See the minutes from the last meeting attached\n",
      "ham\n",
      "Investors are coming to our office on Monday\n",
      "ham\n"
     ]
    }
   ],
   "source": [
    "for emails in test_spam_list:\n",
    "    print(emails)\n",
    "    print(classifier.classify(get_features(emails)))\n",
    "\n",
    "for emails in test_ham_list:\n",
    "    print(emails)\n",
    "    print(classifier.classify(get_features(emails)))"
   ]
  },
  {
   "cell_type": "code",
   "execution_count": 16,
   "id": "6f29132e",
   "metadata": {},
   "outputs": [
    {
     "name": "stdout",
     "output_type": "stream",
     "text": [
      "Type in your email here (or press 'Enter'): \n"
     ]
    }
   ],
   "source": [
    "while True:\n",
    "    email = input(\"Type in your email here (or press 'Enter'): \")\n",
    "    if len(email)==0:\n",
    "        break\n",
    "    else: \n",
    "        prediction = classifier.classify(get_features(email))\n",
    "        print (f\"This email is likely {prediction}\\n\")"
   ]
  },
  {
   "cell_type": "code",
   "execution_count": null,
   "id": "5b188f64",
   "metadata": {},
   "outputs": [],
   "source": []
  },
  {
   "cell_type": "code",
   "execution_count": null,
   "id": "6a60169f",
   "metadata": {},
   "outputs": [],
   "source": []
  },
  {
   "cell_type": "code",
   "execution_count": null,
   "id": "b438a281",
   "metadata": {},
   "outputs": [],
   "source": []
  },
  {
   "cell_type": "code",
   "execution_count": null,
   "id": "b68eb615",
   "metadata": {},
   "outputs": [],
   "source": []
  },
  {
   "cell_type": "code",
   "execution_count": null,
   "id": "e94f5d66",
   "metadata": {},
   "outputs": [],
   "source": []
  },
  {
   "cell_type": "code",
   "execution_count": null,
   "id": "1fc3c42b",
   "metadata": {},
   "outputs": [],
   "source": []
  },
  {
   "cell_type": "code",
   "execution_count": null,
   "id": "a79b9f01",
   "metadata": {},
   "outputs": [],
   "source": []
  },
  {
   "cell_type": "code",
   "execution_count": null,
   "id": "2b6a620a",
   "metadata": {},
   "outputs": [],
   "source": []
  },
  {
   "cell_type": "code",
   "execution_count": null,
   "id": "b5a685ee",
   "metadata": {},
   "outputs": [],
   "source": []
  },
  {
   "cell_type": "code",
   "execution_count": null,
   "id": "9221174c",
   "metadata": {},
   "outputs": [],
   "source": []
  },
  {
   "cell_type": "code",
   "execution_count": null,
   "id": "07cb5510",
   "metadata": {},
   "outputs": [],
   "source": []
  }
 ],
 "metadata": {
  "kernelspec": {
   "display_name": "Python 3 (ipykernel)",
   "language": "python",
   "name": "python3"
  },
  "language_info": {
   "codemirror_mode": {
    "name": "ipython",
    "version": 3
   },
   "file_extension": ".py",
   "mimetype": "text/x-python",
   "name": "python",
   "nbconvert_exporter": "python",
   "pygments_lexer": "ipython3",
   "version": "3.11.4"
  }
 },
 "nbformat": 4,
 "nbformat_minor": 5
}
